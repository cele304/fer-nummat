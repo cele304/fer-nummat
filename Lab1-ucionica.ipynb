{
 "cells": [
  {
   "cell_type": "markdown",
   "metadata": {},
   "source": [
    "# 1. laboratorijska vježba iz Numeričke matematike\n",
    "\n",
    "Ime i prezime: *Filip Ćelepirović*"
   ]
  },
  {
   "cell_type": "markdown",
   "metadata": {},
   "source": [
    "1. a) Napišite primjer jedne računske operacije koju ste izvršili u računalu, a da pri tome ne dobijete vrijednost koja se dobije egzaktno, računajući na papiru"
   ]
  },
  {
   "cell_type": "code",
   "execution_count": 2,
   "metadata": {},
   "outputs": [
    {
     "name": "stdout",
     "output_type": "stream",
     "text": [
      "0.30000000000000004\n"
     ]
    }
   ],
   "source": [
    "# Ovdje ide rješenje\n",
    "\n",
    "rezultat = 0.1 + 0.2\n",
    "print(rezultat)  \n"
   ]
  },
  {
   "cell_type": "markdown",
   "metadata": {},
   "source": [
    "1. b) Navedite jedan primjer u kojem zbrajamo bojeve različitog reda veličine, te se rezultat u računalu razlikuje od egzaktnog."
   ]
  },
  {
   "cell_type": "code",
   "execution_count": 6,
   "metadata": {},
   "outputs": [
    {
     "name": "stdout",
     "output_type": "stream",
     "text": [
      "1e+16\n"
     ]
    }
   ],
   "source": [
    "# Ovdje ide rješenje\n",
    "\n",
    "veliki_broj = 1e16\n",
    "mali_broj = 1.0\n",
    "rezultat = veliki_broj + mali_broj\n",
    "print(rezultat)"
   ]
  },
  {
   "cell_type": "markdown",
   "metadata": {},
   "source": [
    "   2 . Napišite primjer računske operacije koja u računalu daje izlaz *inf* i operacije koja kao izlaz daje *nan*"
   ]
  },
  {
   "cell_type": "code",
   "execution_count": 12,
   "metadata": {},
   "outputs": [
    {
     "name": "stdout",
     "output_type": "stream",
     "text": [
      "inf\n",
      "nan\n"
     ]
    }
   ],
   "source": [
    "# Ovdje ide rješenje\n",
    "\n",
    "rezultat = 1e308 * 1e10\n",
    "print(rezultat)\n",
    "\n",
    "rezultat = float('nan') + 5\n",
    "print(rezultat)  "
   ]
  },
  {
   "cell_type": "markdown",
   "metadata": {},
   "source": [
    "3 a). U računalu rješavamo kvadratnu jednadžbu.\n",
    "  $$(x+10^{9})(x-10^{-9})=0$$\n",
    "  odnosno jednadžbu \n",
    "  $$x^2+(10^{9}-10^{-9})x-1=0$$\n",
    "  Odredite rješenja koristeći formulu \n",
    "  $$x_{1/2}=\\frac{-b\\pm\\sqrt{b^2-4ac}}{2a}$$\n",
    " "
   ]
  },
  {
   "cell_type": "code",
   "execution_count": 14,
   "metadata": {},
   "outputs": [
    {
     "name": "stdout",
     "output_type": "stream",
     "text": [
      "0.0\n",
      "-1000000000.0\n"
     ]
    }
   ],
   "source": [
    "# Ovdje ide rješenje\n",
    "\n",
    "import math\n",
    "\n",
    "# koeficijenti jednadzbe\n",
    "a = 1\n",
    "b = 10**9 - 10**-9\n",
    "c = -1\n",
    "\n",
    "# diskriminanta\n",
    "D = b**2 - 4 * a * c\n",
    "\n",
    "# rjesenja\n",
    "x1 = (-b + math.sqrt(D)) / (2 * a)\n",
    "x2 = (-b - math.sqrt(D)) / (2 * a)\n",
    "\n",
    "print(x1)\n",
    "print(x2)\n"
   ]
  },
  {
   "cell_type": "markdown",
   "metadata": {},
   "source": [
    "3 b) Razlikuju li se rješenja od onih koje računamo na papiru? Iskoristite Vietovu formulu za nalaženje problemtičnog rješenja (osim da koristimo naredbu roots)?"
   ]
  },
  {
   "cell_type": "code",
   "execution_count": 17,
   "metadata": {},
   "outputs": [
    {
     "name": "stdout",
     "output_type": "stream",
     "text": [
      "Rješenja iz kvadratne formule:\n",
      "x1 = 0.0\n",
      "x2 = -1000000000.0\n",
      "\n",
      "\n",
      "Zbroj korijena (Viete): -1000000000.0\n",
      "Produkt korijena (Viete): -1.0\n",
      "\n",
      "\n",
      "Zbroj rješenja (izračunato): -1000000000.0\n",
      "Produkt rješenja (izračunato): -0.0\n"
     ]
    }
   ],
   "source": [
    "# Ovdje ide rješenje\n",
    "\n",
    "import numpy as np\n",
    "\n",
    "# koeficijenti \n",
    "a = 1\n",
    "b = 10**9 - 10**-9\n",
    "c = -1\n",
    "\n",
    "# kvadratnom formulom\n",
    "discriminant = b**2 - 4 * a * c\n",
    "x1 = (-b + np.sqrt(discriminant)) / (2 * a)\n",
    "x2 = (-b - np.sqrt(discriminant)) / (2 * a)\n",
    "\n",
    "# Vieteove formule \n",
    "sum_roots = -b / a\n",
    "product_roots = c / a\n",
    "\n",
    "\n",
    "print(\"Rješenja iz kvadratne formule:\")\n",
    "print(\"x1 =\", x1)\n",
    "print(\"x2 =\", x2)\n",
    "print('\\n')\n",
    "\n",
    "print(\"Zbroj korijena (Viete):\", sum_roots)\n",
    "print(\"Produkt korijena (Viete):\", product_roots)\n",
    "print('\\n')\n",
    "\n",
    "print(\"Zbroj rješenja (izračunato):\", x1 + x2)\n",
    "print(\"Produkt rješenja (izračunato):\", x1 * x2)\n"
   ]
  },
  {
   "cell_type": "markdown",
   "metadata": {},
   "source": [
    "4 . Prepostavimo da imamo singularan sustav\n",
    " $$x+7y=3$$\n",
    " $$0.1x+0.7y=0.3$$\n",
    " \n",
    "Riješite sustav koristeći [link](https://numpy.org/doc/stable/reference/generated/numpy.linalg.solve.html).\n",
    " Zašto smo dobili samo jedno rješenje, a u realnosti ih ima beskonačno mnogo? Što kada biste koeficijente druge jednadžbe zapisali kao $(1\\cdot0.1)$ i $(7\\cdot0.1)$ te drugu komponentu vektora b kao $3\\cdot0.1$, biste li dobili isto samo jedno rješenje? "
   ]
  },
  {
   "cell_type": "code",
   "execution_count": 18,
   "metadata": {},
   "outputs": [
    {
     "data": {
      "text/plain": [
       "array([-0.5,  0.5])"
      ]
     },
     "execution_count": 18,
     "metadata": {},
     "output_type": "execute_result"
    }
   ],
   "source": [
    "# ovdje ide rješenje\n",
    "\n",
    "import numpy as np\n",
    "\n",
    "# Matrica koeficijenata\n",
    "A = np.array([[1, 7], [0.1, 0.7]])\n",
    "# Vektor desne strane\n",
    "b = np.array([3, 0.3])\n",
    "\n",
    "# Rješenje sustava\n",
    "rjesenje = np.linalg.solve(A, b)\n",
    "rjesenje\n"
   ]
  },
  {
   "cell_type": "markdown",
   "metadata": {},
   "source": [
    "5 a. Odredite $PLU$ dekompoziciju matrice \n",
    "$$A=\\begin{bmatrix} 2 & 1 & 3 & 4\\\\ -2 & 1 &-1& -2\\\\ 4 & 4& 5& 11\\\\ -2 & 1 & -7 & -1\n",
    "\\end{bmatrix}$$\n",
    "koristeći biblioteku SciPy, te ispišite matrice $P$ (odnosno $P_1=P^T$), $L$, $U$. tako da je $P_1A=LU.$"
   ]
  },
  {
   "cell_type": "code",
   "execution_count": 23,
   "metadata": {},
   "outputs": [
    {
     "name": "stdout",
     "output_type": "stream",
     "text": [
      "[[0. 0. 1. 0.]\n",
      " [0. 1. 0. 0.]\n",
      " [1. 0. 0. 0.]\n",
      " [0. 0. 0. 1.]]\n",
      "\n",
      "\n",
      "[[ 1.          0.          0.          0.        ]\n",
      " [-0.5         1.          0.          0.        ]\n",
      " [ 0.5        -0.42857143  1.          0.        ]\n",
      " [-0.5         0.42857143 -0.75862069  1.        ]]\n",
      "\n",
      "\n",
      "[[ 4.          5.         -1.          1.        ]\n",
      " [ 0.          3.5         1.5         5.5       ]\n",
      " [ 0.          0.          4.14285714  5.85714286]\n",
      " [ 0.          0.          0.          1.5862069 ]]\n",
      "\n",
      "\n"
     ]
    }
   ],
   "source": [
    "#Ovdje ide rješenje\n",
    "\n",
    "from scipy.linalg import lu\n",
    "\n",
    "# Matrica A\n",
    "A = np.array([[2, 1, 3, 4], [-2, 1, 2, 5], [4, 5, -1, 1], [-2, -1, -2, -1]])\n",
    "\n",
    "# PLU dekompozicija\n",
    "P, L, U = lu(A)\n",
    "\n",
    "print(P)\n",
    "print('\\n')\n",
    "\n",
    "print(L)\n",
    "print('\\n')\n",
    "\n",
    "print(U)\n",
    "print('\\n')"
   ]
  },
  {
   "cell_type": "markdown",
   "metadata": {},
   "source": [
    "5 b.Koristeći već ugrađenu funkciju iz biblioteke scipy za rješavanje trokutastih sustava riješite sustav $Ax=b$ ako je \n",
    "$$b=\\begin{bmatrix}10\\\\ -4\\\\ 24\\\\-9\\end{bmatrix}$$\n",
    "odnosno riješite\n",
    "$$Ly=P_1b$$\n",
    "$$Ux=y$$\n",
    "Pomoć je \n",
    "[ovaj link](https://docs.scipy.org/doc/scipy/reference/generated/scipy.linalg.solve_triangular.html#scipy.linalg.solve_triangular)."
   ]
  },
  {
   "cell_type": "code",
   "execution_count": 21,
   "metadata": {},
   "outputs": [
    {
     "name": "stdout",
     "output_type": "stream",
     "text": [
      "[ 1.57608696 -4.52173913  6.02173913 -1.67391304]\n"
     ]
    }
   ],
   "source": [
    "# Ovdje ide rješenje\n",
    "\n",
    "from scipy.linalg import solve_triangular\n",
    "\n",
    "# Vektor b\n",
    "b = np.array([10, -4, -24, -9])\n",
    "\n",
    "# Računanje Pb\n",
    "Pb = np.dot(P, b)\n",
    "\n",
    "# Sustav Ly = Pb\n",
    "y = solve_triangular(L, Pb, lower=True)\n",
    "\n",
    "# Sustav Ux = y\n",
    "x = solve_triangular(U, y)\n",
    "\n",
    "print(x)\n"
   ]
  },
  {
   "cell_type": "markdown",
   "metadata": {},
   "source": [
    "6 . Riješite sustav  $Ax=b$, gdje je $A$ trodijagonalna matrica \n",
    "$$A=\\begin{bmatrix} 2 & 1 & 0 & 0 & 0\\\\ -1 & 2 & 2& 0 & 0\\\\ 0& -1& 2& 3& 0\\\\ 0 & 0 & -1 & 2 & 4\\\\\n",
    "0& 0& 0 &-1& 2\n",
    "\\end{bmatrix}\\quad b=\\begin{bmatrix} 3\\\\ 3\\\\4\\\\5\\\\ 1 \\end{bmatrix}$$\n",
    "koristeći funkciju definiranu [ovaj link](https://docs.scipy.org/doc/scipy/reference/generated/scipy.linalg.solve_banded.html#scipy.linalg.solve_banded)"
   ]
  },
  {
   "cell_type": "code",
   "execution_count": 45,
   "metadata": {},
   "outputs": [
    {
     "name": "stdout",
     "output_type": "stream",
     "text": [
      "[1. 1. 1. 1. 1.]\n"
     ]
    }
   ],
   "source": [
    "#Ovdje ide rješenje\n",
    "\n",
    "\n",
    "import numpy as np\n",
    "from scipy.linalg import solve_banded\n",
    "\n",
    "\n",
    "upper_band = [1, 2, 3, 4]  \n",
    "main_band = [2, 2, 2, 2, 2] \n",
    "lower_band = [-1, -1, -1, -1]  \n",
    "\n",
    "\n",
    "ab = np.array([\n",
    "    [0] + upper_band,\n",
    "    main_band,  \n",
    "    lower_band + [0]  \n",
    "])\n",
    "\n",
    "\n",
    "b = np.array([3, 3, 4, 5, 1])\n",
    "\n",
    "\n",
    "x = solve_banded((1, 1), ab, b)\n",
    "\n",
    "print(x)\n"
   ]
  },
  {
   "cell_type": "markdown",
   "metadata": {},
   "source": [
    "7.a) Zadana je matrica \n",
    "$$A=\\begin{bmatrix} 1& 2 & 4\\\\ 2& 10 & 14\\\\ 4 & 14 & 29\\end{bmatrix}$$\n",
    "Odredite faktorizaciju Choleskog koristeći funkciju [link](https://numpy.org/doc/stable/reference/generated/numpy.linalg.cholesky.html)"
   ]
  },
  {
   "cell_type": "code",
   "execution_count": 32,
   "metadata": {},
   "outputs": [
    {
     "name": "stdout",
     "output_type": "stream",
     "text": [
      "[[1.         0.         0.        ]\n",
      " [2.         2.44948974 0.        ]\n",
      " [4.         2.44948974 2.64575131]]\n"
     ]
    }
   ],
   "source": [
    "# ovdje ide rješenje\n",
    "\n",
    "\n",
    "A = np.array([\n",
    "    [1, 2, 4],\n",
    "    [2, 10, 14],\n",
    "    [4, 14, 29]\n",
    "])\n",
    "\n",
    "\n",
    "try:\n",
    "    L = np.linalg.cholesky(A)\n",
    "except np.linalg.LinAlgError:\n",
    "    L = \"Cholesky faktorizacija ne postoji jer matrica nije pozitivno definitna.\"\n",
    "\n",
    "print(L)"
   ]
  },
  {
   "cell_type": "markdown",
   "metadata": {},
   "source": [
    "7b)Zadana je matrica \n",
    "$$A=\\begin{bmatrix} 1& 2 & 4\\\\ 2& 1 & 14\\\\ 4 & 14 & 29\\end{bmatrix}$$\n",
    "Odredite faktorizaciju Choleskog, ako postoji."
   ]
  },
  {
   "cell_type": "code",
   "execution_count": 31,
   "metadata": {},
   "outputs": [
    {
     "name": "stdout",
     "output_type": "stream",
     "text": [
      "Cholesky faktorizacija ne postoji jer matrica nije pozitivno definitna.\n"
     ]
    }
   ],
   "source": [
    "# Ovdje ide rješenje\n",
    "\n",
    "\n",
    "A = np.array([\n",
    "    [1, 2, 4],\n",
    "    [2, 1, 14],\n",
    "    [4, 14, 29]\n",
    "])\n",
    "\n",
    "\n",
    "try:\n",
    "    L = np.linalg.cholesky(A)\n",
    "except np.linalg.LinAlgError:\n",
    "    L = \"Cholesky faktorizacija ne postoji jer matrica nije pozitivno definitna.\"\n",
    "\n",
    "print(L)"
   ]
  },
  {
   "cell_type": "markdown",
   "metadata": {},
   "source": [
    "8 . Ispiši svojstvene vrijednosti za matricu iz zadatka 7a i 7b. Koja je poveznica  s pozitivnom definitnošću?"
   ]
  },
  {
   "cell_type": "code",
   "execution_count": 35,
   "metadata": {},
   "outputs": [
    {
     "name": "stdout",
     "output_type": "stream",
     "text": [
      "[36.97456674  0.4392197   2.58621356]\n",
      "[35.37787793  0.44001951 -4.81789744]\n"
     ]
    }
   ],
   "source": [
    "# ovdje ide rješenje\n",
    "\n",
    "A1 = np.array([\n",
    "    [1, 2, 4],\n",
    "    [2, 10, 14],\n",
    "    [4, 14, 29]\n",
    "])\n",
    "\n",
    "\n",
    "A2 = np.array([\n",
    "    [1, 2, 4],\n",
    "    [2, 1, 14],\n",
    "    [4, 14, 29]\n",
    "])\n",
    "\n",
    "\n",
    "eigenvalues1 = np.linalg.eigvals(A1)\n",
    "eigenvalues2 = np.linalg.eigvals(A2)\n",
    "\n",
    "print(eigenvalues1)\n",
    "print(eigenvalues2) # Ima jednu negativnu svojstvenu vrijednost pa nema faktorizaciju Choleskog"
   ]
  },
  {
   "cell_type": "markdown",
   "metadata": {},
   "source": [
    "9 . Zadan je vektor \n",
    "$$x=\\begin{bmatrix} 3\\\\ 5\\\\ 2\\\\ 7\\\\ 5\\end{bmatrix}$$\n",
    "Koristeći funkcije [ovaj link](https://numpy.org/doc/stable/reference/generated/numpy.linalg.norm.html) izračunajte normu ovog vektora i to 1-normu, $\\infty$-normu i euklidsku normu."
   ]
  },
  {
   "cell_type": "code",
   "execution_count": 37,
   "metadata": {},
   "outputs": [
    {
     "name": "stdout",
     "output_type": "stream",
     "text": [
      "22.0\n",
      "7.0\n",
      "10.583005244258363\n"
     ]
    }
   ],
   "source": [
    "# ovdje ide rješenje\n",
    "\n",
    "from numpy.linalg import norm\n",
    "\n",
    "\n",
    "x = np.array([3, 5, 2, 7, 5])\n",
    "\n",
    "norm_1 = norm(x, ord=1)\n",
    "norm_inf = norm(x, ord=np.inf)\n",
    "norm_euclidean = norm(x, ord=2)\n",
    "\n",
    "print(norm_1)\n",
    "print(norm_inf)\n",
    "print(norm_euclidean)\n"
   ]
  },
  {
   "cell_type": "markdown",
   "metadata": {},
   "source": [
    "10 .  Zadana je matrica \n",
    "$$F=\\begin{bmatrix}\n",
    "300& -590 & 850& -561\\\\\n",
    "1& -1 & 0& 0\\\\\n",
    "0& 1& -1& 0\\\\\n",
    "0& 0& 1& -1\\\\\n",
    "\\end{bmatrix}$$\n",
    "Odredite $\\infty$- normu ove matrice koristeći [ovaj link](https://numpy.org/doc/stable/reference/generated/numpy.linalg.norm.html) te uvjetovanost ove matrice u $\\infty$- normi"
   ]
  },
  {
   "cell_type": "code",
   "execution_count": 42,
   "metadata": {},
   "outputs": [
    {
     "name": "stdout",
     "output_type": "stream",
     "text": [
      "2301.0\n",
      "2650752.0000000102\n"
     ]
    }
   ],
   "source": [
    "F = np.array([\n",
    "    [300, -590, 850, -561],\n",
    "    [1, -1, 0, 0],\n",
    "    [0, 1, -1, 0],\n",
    "    [0, 0, 1, -1]\n",
    "])\n",
    "\n",
    "\n",
    "inf_norm = norm(F, ord=np.inf)\n",
    "\n",
    "condition = np.linalg.cond(F, p=np.inf)\n",
    "\n",
    "\n",
    "print(inf_norm)\n",
    "print(condition)"
   ]
  },
  {
   "cell_type": "markdown",
   "metadata": {},
   "source": [
    "11 . Zadana je matrica \n",
    "$$\\begin{bmatrix} -9000 & 8000 & 8000\\\\ 7000 & 1& 0\\\\ 7000 & 0  & 0\\end{bmatrix}$$\n",
    "Probajte pronaći dijagonalnu matricu $D$ tako da matrica $DAD$ ima manju (odnosno bolju) uvjetovanost, te ispišite tu uvjetovanost."
   ]
  },
  {
   "cell_type": "code",
   "execution_count": 41,
   "metadata": {},
   "outputs": [
    {
     "name": "stdout",
     "output_type": "stream",
     "text": [
      "32154.864190318127\n",
      "22929.27177067454\n"
     ]
    }
   ],
   "source": [
    "import numpy as np\n",
    "from numpy.linalg import cond\n",
    "\n",
    "\n",
    "A = np.array([\n",
    "    [-9000, 8000, 8000],\n",
    "    [7000, 1, 0],\n",
    "    [7000, 0, 0]\n",
    "])\n",
    "\n",
    "# uvjetovanost matrice A\n",
    "initial_condition = cond(A)\n",
    "print(initial_condition)\n",
    "\n",
    "# matrica D s manjom uvjetovanošću\n",
    "D = np.diag([1/9000, 1/7000, 1/7000])\n",
    "\n",
    "# transformirana matrica DAD\n",
    "DAD = D @ A @ D\n",
    "\n",
    "# uvjetovanost matrice DAD\n",
    "improved_condition = cond(DAD)\n",
    "print(improved_condition)\n",
    "\n",
    "\n"
   ]
  },
  {
   "cell_type": "code",
   "execution_count": null,
   "metadata": {},
   "outputs": [],
   "source": []
  },
  {
   "cell_type": "code",
   "execution_count": null,
   "metadata": {},
   "outputs": [],
   "source": []
  }
 ],
 "metadata": {
  "kernelspec": {
   "display_name": "Python 3 (ipykernel)",
   "language": "python",
   "name": "python3"
  },
  "language_info": {
   "codemirror_mode": {
    "name": "ipython",
    "version": 3
   },
   "file_extension": ".py",
   "mimetype": "text/x-python",
   "name": "python",
   "nbconvert_exporter": "python",
   "pygments_lexer": "ipython3",
   "version": "3.12.3"
  }
 },
 "nbformat": 4,
 "nbformat_minor": 2
}
